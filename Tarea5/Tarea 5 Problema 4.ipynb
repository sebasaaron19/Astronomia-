{
 "cells": [
  {
   "cell_type": "code",
   "execution_count": 1,
   "metadata": {},
   "outputs": [],
   "source": [
    "import pandas as pd\n",
    "import numpy as np \n",
    "import matplotlib.pyplot as plt \n",
    "import seaborn as sns"
   ]
  },
  {
   "cell_type": "code",
   "execution_count": 2,
   "metadata": {},
   "outputs": [
    {
     "data": {
      "text/html": [
       "<div>\n",
       "<style scoped>\n",
       "    .dataframe tbody tr th:only-of-type {\n",
       "        vertical-align: middle;\n",
       "    }\n",
       "\n",
       "    .dataframe tbody tr th {\n",
       "        vertical-align: top;\n",
       "    }\n",
       "\n",
       "    .dataframe thead th {\n",
       "        text-align: right;\n",
       "    }\n",
       "</style>\n",
       "<table border=\"1\" class=\"dataframe\">\n",
       "  <thead>\n",
       "    <tr style=\"text-align: right;\">\n",
       "      <th></th>\n",
       "      <th>Est-ID</th>\n",
       "      <th>B</th>\n",
       "      <th>V</th>\n",
       "      <th>B-V</th>\n",
       "    </tr>\n",
       "  </thead>\n",
       "  <tbody>\n",
       "    <tr>\n",
       "      <td>0</td>\n",
       "      <td>1404.0</td>\n",
       "      <td>10.451</td>\n",
       "      <td>9.139</td>\n",
       "      <td>1.312</td>\n",
       "    </tr>\n",
       "    <tr>\n",
       "      <td>1</td>\n",
       "      <td>315.0</td>\n",
       "      <td>9.913</td>\n",
       "      <td>9.258</td>\n",
       "      <td>0.655</td>\n",
       "    </tr>\n",
       "    <tr>\n",
       "      <td>2</td>\n",
       "      <td>313.0</td>\n",
       "      <td>9.904</td>\n",
       "      <td>9.270</td>\n",
       "      <td>0.634</td>\n",
       "    </tr>\n",
       "    <tr>\n",
       "      <td>3</td>\n",
       "      <td>743.0</td>\n",
       "      <td>10.362</td>\n",
       "      <td>9.694</td>\n",
       "      <td>0.668</td>\n",
       "    </tr>\n",
       "    <tr>\n",
       "      <td>4</td>\n",
       "      <td>521.0</td>\n",
       "      <td>10.784</td>\n",
       "      <td>10.158</td>\n",
       "      <td>0.626</td>\n",
       "    </tr>\n",
       "    <tr>\n",
       "      <td>...</td>\n",
       "      <td>...</td>\n",
       "      <td>...</td>\n",
       "      <td>...</td>\n",
       "      <td>...</td>\n",
       "    </tr>\n",
       "    <tr>\n",
       "      <td>350</td>\n",
       "      <td>722.0</td>\n",
       "      <td>20.251</td>\n",
       "      <td>19.157</td>\n",
       "      <td>1.094</td>\n",
       "    </tr>\n",
       "    <tr>\n",
       "      <td>351</td>\n",
       "      <td>198.0</td>\n",
       "      <td>20.633</td>\n",
       "      <td>19.166</td>\n",
       "      <td>1.467</td>\n",
       "    </tr>\n",
       "    <tr>\n",
       "      <td>352</td>\n",
       "      <td>172.0</td>\n",
       "      <td>20.721</td>\n",
       "      <td>19.194</td>\n",
       "      <td>1.527</td>\n",
       "    </tr>\n",
       "    <tr>\n",
       "      <td>353</td>\n",
       "      <td>1432.0</td>\n",
       "      <td>20.633</td>\n",
       "      <td>19.204</td>\n",
       "      <td>1.429</td>\n",
       "    </tr>\n",
       "    <tr>\n",
       "      <td>354</td>\n",
       "      <td>129.0</td>\n",
       "      <td>20.658</td>\n",
       "      <td>19.267</td>\n",
       "      <td>1.391</td>\n",
       "    </tr>\n",
       "  </tbody>\n",
       "</table>\n",
       "<p>355 rows × 4 columns</p>\n",
       "</div>"
      ],
      "text/plain": [
       "     Est-ID       B       V    B-V\n",
       "0    1404.0  10.451   9.139  1.312\n",
       "1     315.0   9.913   9.258  0.655\n",
       "2     313.0   9.904   9.270  0.634\n",
       "3     743.0  10.362   9.694  0.668\n",
       "4     521.0  10.784  10.158  0.626\n",
       "..      ...     ...     ...    ...\n",
       "350   722.0  20.251  19.157  1.094\n",
       "351   198.0  20.633  19.166  1.467\n",
       "352   172.0  20.721  19.194  1.527\n",
       "353  1432.0  20.633  19.204  1.429\n",
       "354   129.0  20.658  19.267  1.391\n",
       "\n",
       "[355 rows x 4 columns]"
      ]
     },
     "execution_count": 2,
     "metadata": {},
     "output_type": "execute_result"
    }
   ],
   "source": [
    "#Cargo el archivo de datos con el que trabajare\n",
    "data = np.loadtxt('NGC6604_phot.dat',skiprows=2, usecols=(0,4,5)) \n",
    "#Creo un DataFrame\n",
    "df=pd.DataFrame(data, columns=['Est-ID','B','V']) \n",
    "#Me deshago de los datos que no me sirven\n",
    "df.drop(df[df['B'] ==99.999 ].index , inplace=True)\n",
    "df.drop(df[df['V'] ==99.999 ].index , inplace=True)\n",
    "#Creo una nueva columna con el color B-V\n",
    "df['B-V']=df['B']-df['V']\n",
    "#Reinicio el indice\n",
    "df=df.reset_index(drop=True)\n",
    "df"
   ]
  },
  {
   "cell_type": "code",
   "execution_count": 3,
   "metadata": {},
   "outputs": [
    {
     "data": {
      "image/png": "[encoded data removed]",
      "text/plain": [
       "<Figure size 576x288 with 1 Axes>"
      ]
     },
     "metadata": {
      "needs_background": "light"
     },
     "output_type": "display_data"
    }
   ],
   "source": [
    "x=df['B-V']\n",
    "y=df['V']\n",
    "plt.figure(figsize=[8,4])\n",
    "ax=sns.scatterplot(x,y,color='r')\n",
    "plt.title('Diagrama HR de NGC6604')\n",
    "plt.ylim(max(y), min(y))\n",
    "plt.xlabel('Color B-V')\n",
    "plt.ylabel('Magnitud V (aparente)')\n",
    "plt.grid(True)"
   ]
  },
  {
   "cell_type": "code",
   "execution_count": 48,
   "metadata": {},
   "outputs": [
    {
     "data": {
      "image/png": "[encoded data removed]",
      "text/plain": [
       "<Figure size 576x288 with 1 Axes>"
      ]
     },
     "metadata": {
      "needs_background": "light"
     },
     "output_type": "display_data"
    }
   ],
   "source": [
    "#Datos Del Sol: \n",
    "#Color B-V= 0.65\n",
    "# Magnitud Absoluta MvS=4.8221\n",
    "\n",
    "plt.figure(figsize=[8,4])\n",
    "ax=sns.scatterplot(x,y,color='r')\n",
    "plt.title('Diagrama HR de NGC6604')\n",
    "plt.ylim(max(y), min(y))\n",
    "plt.xlabel('Color B-V')\n",
    "plt.ylabel('Magnitud V (aparente)')\n",
    "plt.axvline(x=0.65,color='m')\n",
    "plt.grid(True)"
   ]
  },
  {
   "cell_type": "code",
   "execution_count": 4,
   "metadata": {},
   "outputs": [
    {
     "data": {
      "image/png": "[encoded data removed]",
      "text/plain": [
       "<Figure size 576x288 with 1 Axes>"
      ]
     },
     "metadata": {
      "needs_background": "light"
     },
     "output_type": "display_data"
    }
   ],
   "source": [
    "plt.figure(figsize=[8,4])\n",
    "ax=sns.scatterplot(x,y,color='r')\n",
    "plt.title('Diagrama HR de NGC6604')\n",
    "plt.ylim(max(y), min(y))\n",
    "plt.xlabel('Color B-V')\n",
    "plt.ylabel('Magnitud V (aparente)')\n",
    "plt.axvline(x=0.65,color='m')\n",
    "plt.axhline(y=15.75,color='m')\n",
    "plt.grid(True)"
   ]
  },
  {
   "cell_type": "code",
   "execution_count": 5,
   "metadata": {},
   "outputs": [
    {
     "name": "stdout",
     "output_type": "stream",
     "text": [
      "La distancia al cúmulo es (aproximadamente) 1533.1336 parsecs\n",
      "La distancia al cúmulo es (aproximadamente) 5001.0818 años luz\n"
     ]
    }
   ],
   "source": [
    "#Usando el Modulo de distancia Mv-V=5log(D)-5, calculo la distancia D al cúmulo.\n",
    "#Donde:\n",
    "Mv=15.75\n",
    "V=4.8221\n",
    "D=10**((Mv-V+5)/5)\n",
    "print('La distancia al cúmulo es (aproximadamente)',\"{0:.4f}\".format(D),'parsecs')\n",
    "print('La distancia al cúmulo es (aproximadamente)',\"{0:.4f}\".format(D*3.262),'años luz')"
   ]
  },
  {
   "cell_type": "code",
   "execution_count": 6,
   "metadata": {},
   "outputs": [
    {
     "data": {
      "text/html": [
       "<div>\n",
       "<style scoped>\n",
       "    .dataframe tbody tr th:only-of-type {\n",
       "        vertical-align: middle;\n",
       "    }\n",
       "\n",
       "    .dataframe tbody tr th {\n",
       "        vertical-align: top;\n",
       "    }\n",
       "\n",
       "    .dataframe thead th {\n",
       "        text-align: right;\n",
       "    }\n",
       "</style>\n",
       "<table border=\"1\" class=\"dataframe\">\n",
       "  <thead>\n",
       "    <tr style=\"text-align: right;\">\n",
       "      <th></th>\n",
       "      <th>Est-ID</th>\n",
       "      <th>B</th>\n",
       "      <th>V</th>\n",
       "      <th>B-V</th>\n",
       "      <th>L</th>\n",
       "      <th>Teff</th>\n",
       "    </tr>\n",
       "  </thead>\n",
       "  <tbody>\n",
       "    <tr>\n",
       "      <td>0</td>\n",
       "      <td>1404.0</td>\n",
       "      <td>10.451</td>\n",
       "      <td>9.139</td>\n",
       "      <td>1.312</td>\n",
       "      <td>440.960816</td>\n",
       "      <td>3808.840127</td>\n",
       "    </tr>\n",
       "    <tr>\n",
       "      <td>1</td>\n",
       "      <td>315.0</td>\n",
       "      <td>9.913</td>\n",
       "      <td>9.258</td>\n",
       "      <td>0.655</td>\n",
       "      <td>395.184589</td>\n",
       "      <td>5352.190691</td>\n",
       "    </tr>\n",
       "    <tr>\n",
       "      <td>2</td>\n",
       "      <td>313.0</td>\n",
       "      <td>9.904</td>\n",
       "      <td>9.270</td>\n",
       "      <td>0.634</td>\n",
       "      <td>390.840896</td>\n",
       "      <td>5438.283369</td>\n",
       "    </tr>\n",
       "    <tr>\n",
       "      <td>3</td>\n",
       "      <td>743.0</td>\n",
       "      <td>10.362</td>\n",
       "      <td>9.694</td>\n",
       "      <td>0.668</td>\n",
       "      <td>264.484363</td>\n",
       "      <td>5300.928046</td>\n",
       "    </tr>\n",
       "    <tr>\n",
       "      <td>4</td>\n",
       "      <td>521.0</td>\n",
       "      <td>10.784</td>\n",
       "      <td>10.158</td>\n",
       "      <td>0.626</td>\n",
       "      <td>172.504330</td>\n",
       "      <td>5472.206680</td>\n",
       "    </tr>\n",
       "    <tr>\n",
       "      <td>...</td>\n",
       "      <td>...</td>\n",
       "      <td>...</td>\n",
       "      <td>...</td>\n",
       "      <td>...</td>\n",
       "      <td>...</td>\n",
       "      <td>...</td>\n",
       "    </tr>\n",
       "    <tr>\n",
       "      <td>350</td>\n",
       "      <td>722.0</td>\n",
       "      <td>20.251</td>\n",
       "      <td>19.157</td>\n",
       "      <td>1.094</td>\n",
       "      <td>0.043371</td>\n",
       "      <td>4163.304351</td>\n",
       "    </tr>\n",
       "    <tr>\n",
       "      <td>351</td>\n",
       "      <td>198.0</td>\n",
       "      <td>20.633</td>\n",
       "      <td>19.166</td>\n",
       "      <td>1.467</td>\n",
       "      <td>0.043013</td>\n",
       "      <td>3606.152729</td>\n",
       "    </tr>\n",
       "    <tr>\n",
       "      <td>352</td>\n",
       "      <td>172.0</td>\n",
       "      <td>20.721</td>\n",
       "      <td>19.194</td>\n",
       "      <td>1.527</td>\n",
       "      <td>0.041918</td>\n",
       "      <td>3536.054634</td>\n",
       "    </tr>\n",
       "    <tr>\n",
       "      <td>353</td>\n",
       "      <td>1432.0</td>\n",
       "      <td>20.633</td>\n",
       "      <td>19.204</td>\n",
       "      <td>1.429</td>\n",
       "      <td>0.041534</td>\n",
       "      <td>3652.798035</td>\n",
       "    </tr>\n",
       "    <tr>\n",
       "      <td>354</td>\n",
       "      <td>129.0</td>\n",
       "      <td>20.658</td>\n",
       "      <td>19.267</td>\n",
       "      <td>1.391</td>\n",
       "      <td>0.039192</td>\n",
       "      <td>3701.328637</td>\n",
       "    </tr>\n",
       "  </tbody>\n",
       "</table>\n",
       "<p>355 rows × 6 columns</p>\n",
       "</div>"
      ],
      "text/plain": [
       "     Est-ID       B       V    B-V           L         Teff\n",
       "0    1404.0  10.451   9.139  1.312  440.960816  3808.840127\n",
       "1     315.0   9.913   9.258  0.655  395.184589  5352.190691\n",
       "2     313.0   9.904   9.270  0.634  390.840896  5438.283369\n",
       "3     743.0  10.362   9.694  0.668  264.484363  5300.928046\n",
       "4     521.0  10.784  10.158  0.626  172.504330  5472.206680\n",
       "..      ...     ...     ...    ...         ...          ...\n",
       "350   722.0  20.251  19.157  1.094    0.043371  4163.304351\n",
       "351   198.0  20.633  19.166  1.467    0.043013  3606.152729\n",
       "352   172.0  20.721  19.194  1.527    0.041918  3536.054634\n",
       "353  1432.0  20.633  19.204  1.429    0.041534  3652.798035\n",
       "354   129.0  20.658  19.267  1.391    0.039192  3701.328637\n",
       "\n",
       "[355 rows x 6 columns]"
      ]
     },
     "execution_count": 6,
     "metadata": {},
     "output_type": "execute_result"
    }
   ],
   "source": [
    "#Para obtener el diagrama HR de Teff vs. L/ls\n",
    "\n",
    "#Uso L=10^(-0.4(V-5logD+5-Mv))\n",
    "df['L']=10**((-0.4)*((df['V'])-5*np.log10(D)+5-V))\n",
    "#Teff \n",
    "#Para la Temperatura efectiva, hago uso de la aproximacion vista en clase\n",
    "#En que se obtuvo que Teff=4350.5578*BV**(-0.4897).\n",
    "#En un rango de color B-V: [0.4160 A 2.7509]\n",
    "df['Teff']=4350.5578*df['B-V']**(-0.4897)\n",
    "df"
   ]
  },
  {
   "cell_type": "code",
   "execution_count": 7,
   "metadata": {},
   "outputs": [
    {
     "data": {
      "image/png": "[encoded data removed]",
      "text/plain": [
       "<Figure size 576x288 with 1 Axes>"
      ]
     },
     "metadata": {
      "needs_background": "light"
     },
     "output_type": "display_data"
    }
   ],
   "source": [
    "plt.figure(figsize=[8,4])\n",
    "ax=sns.scatterplot(df['Teff'],df['L'],color='g')\n",
    "plt.title('Diagrama HR de NGC6604')\n",
    "plt.xlabel('Temperatura Efectiva')\n",
    "plt.ylabel('Luminusidad (L/Ls)')\n",
    "plt.grid(True)"
   ]
  },
  {
   "cell_type": "code",
   "execution_count": 8,
   "metadata": {},
   "outputs": [
    {
     "name": "stdout",
     "output_type": "stream",
     "text": [
      "La estrella mas luminosa del cumulo tiene:\n",
      "Una luminusidad 440.9608 veces la luminusidad del Sol\n",
      "Una temperatura efectiva de 3808.8401 Kelvins\n",
      "Un radio de 0.00171482 veces el radio del sol\n"
     ]
    }
   ],
   "source": [
    "#Para localizar la estrella más luminosa\n",
    "i=df['L'].max()\n",
    "#Su temperatura \n",
    "Tmax=df['Teff'][df.index[df['L']==i][0]]\n",
    "\n",
    "#Para obtener el radio uso:\n",
    "# L=4*pi*R^2*SB*Teff\n",
    "#Donde SB= 5.67*10^-8 es la constante de Stefan-Boltzmann\n",
    "SB=5.67e-8\n",
    "Rmax=np.sqrt(i/(4*np.pi*SB*Tmax**4))\n",
    "\n",
    "print('La estrella mas luminosa del cumulo tiene:')\n",
    "print('Una luminusidad',round(i,4),'veces la luminusidad del Sol')\n",
    "print('Una temperatura efectiva de',round(Tmax,4),'Kelvins')\n",
    "print('Un radio de',round(Rmax,8),'veces el radio del sol')"
   ]
  },
  {
   "cell_type": "code",
   "execution_count": 9,
   "metadata": {},
   "outputs": [
    {
     "name": "stdout",
     "output_type": "stream",
     "text": [
      "La estrella menos luminosa del cumulo tiene:\n",
      "Una luminusidad 0.0392 veces la luminusidad del Sol\n",
      "Una temperatura efectiva de 3701.3286 Kelvins\n",
      "Un radio de 1.712e-05 veces el radio del sol\n"
     ]
    }
   ],
   "source": [
    "#Para localizar la estrella menos luminosa\n",
    "j=df['L'].min()\n",
    "#Su temperatura\n",
    "Tmin=df['Teff'][df.index[df['L']==j][0]]\n",
    "#Su radio \n",
    "Rmin=np.sqrt(j/(4*np.pi*SB*Tmin**4))\n",
    "\n",
    "print('La estrella menos luminosa del cumulo tiene:')\n",
    "print('Una luminusidad',round(j,4),'veces la luminusidad del Sol')\n",
    "print('Una temperatura efectiva de',round(Tmin,4),'Kelvins')\n",
    "print('Un radio de',round(Rmin,8),'veces el radio del sol')"
   ]
  },
  {
   "cell_type": "code",
   "execution_count": null,
   "metadata": {},
   "outputs": [],
   "source": []
  }
 ],
 "metadata": {
  "kernelspec": {
   "display_name": "Python 3",
   "language": "python",
   "name": "python3"
  },
  "language_info": {
   "codemirror_mode": {
    "name": "ipython",
    "version": 3
   },
   "file_extension": ".py",
   "mimetype": "text/x-python",
   "name": "python",
   "nbconvert_exporter": "python",
   "pygments_lexer": "ipython3",
   "version": "3.7.4"
  }
 },
 "nbformat": 4,
 "nbformat_minor": 4
}
